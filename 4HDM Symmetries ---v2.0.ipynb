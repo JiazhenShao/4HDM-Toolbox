{
 "cells": [
  {
   "cell_type": "markdown",
   "metadata": {},
   "source": [
    "# 4HDM Abelian Symmetry --- v2.0"
   ]
  },
  {
   "cell_type": "markdown",
   "metadata": {},
   "source": [
    "When multi-Higgs doublet model contain more Higgs doublets, the richness of the symmetry pattern of the Higgs potential increases, and at some point, hopefully starting from 4-Higgs Doublet Model (4HDM), it is necessary to develop a computer code to handle the complexity if there are no genius mathematical insights into the model to corelate symmetry and potential without brutal-force work. "
   ]
  },
  {
   "cell_type": "markdown",
   "metadata": {},
   "source": [
    "This code is developed Precisely due to this concern. In fact, according to our observation during the process of derivation, we find out that the classification of symmetries of 4HDM is much more involved, therefore the code will be further updated to new versions if progresses are made."
   ]
  },
  {
   "cell_type": "markdown",
   "metadata": {},
   "source": [
    "The primary goals of the previous code v1.0 are: <p>\n",
    "* to find out generators of cyclic abelian symmetry group of given potential\n",
    "* for a given cyclic abelian generator, to find out the invariant potential\n",
    "* to study one particular class of abelian symmetry of 4HDM --- symmetres which are cyclic groups: $\\mathbb{Z}_8$, $\\mathbb{Z}_7$, $\\mathbb{Z}_6$, $\\mathbb{Z}_5$, $\\mathbb{Z}_4$, and classify generators and potentials up to permutation and rephasing of doublets."
   ]
  },
  {
   "cell_type": "markdown",
   "metadata": {},
   "source": [
    "The primary goal of this code v2.0 is: <p>\n",
    "* provide tools to study the rest of abelian symmetry of 4HDM --- firstly, other rephasing symmetries: $\\mathbb{Z}_2\\times\\mathbb{Z}_2$, $\\mathbb{Z}_4\\times\\mathbb{Z}_2$, $\\mathbb{Z}_2\\times\\mathbb{Z}_2\\times\\mathbb{Z}_2$, secondly, the three extra cases: $\\mathbb{Z}_4\\times\\mathbb{Z}_4$, $\\mathbb{Z}_4\\times\\mathbb{Z}_2\\times\\mathbb{Z}_2$, $\\mathbb{Z}_2\\times\\mathbb{Z}_2\\times\\mathbb{Z}_2\\times\\mathbb{Z}_2$"
   ]
  },
  {
   "cell_type": "markdown",
   "metadata": {},
   "source": [
    "As tools developed by v1.0 code is also used, we include v1.0 here."
   ]
  },
  {
   "cell_type": "markdown",
   "metadata": {},
   "source": [
    "## Packages required"
   ]
  },
  {
   "cell_type": "markdown",
   "metadata": {},
   "source": [
    "This code uses NumPy, sympy, copy, itertools, and smithnormalform packages. Run the follwoing cell to import. If un successful, you need to download the package via anaconda or other means."
   ]
  },
  {
   "cell_type": "markdown",
   "metadata": {},
   "source": [
    ">for the smithnormalform package, code web: https://github.com/corbinmcneill/SNF/tree/master/smithnormalform <p>\n",
    ">discription web: https://pypi.org/project/smithnormalform/ <p>\n",
    "remark: small package, far less formal compared with numpy and these things, but can return matrices making the original matrix normalized <p>\n",
    "'pip install smithnormalform' to install"
   ]
  },
  {
   "cell_type": "code",
   "execution_count": 28,
   "metadata": {},
   "outputs": [],
   "source": [
    "import itertools\n",
    "import copy\n",
    "import numpy as np\n",
    "from sympy import Matrix\n",
    "from sympy.matrices.normalforms import smith_normal_form\n",
    "from smithnormalform import matrix, snfproblem, z"
   ]
  },
  {
   "cell_type": "markdown",
   "metadata": {},
   "source": [
    "## How monomials in the potentials are represented in the code"
   ]
  },
  {
   "cell_type": "markdown",
   "metadata": {},
   "source": [
    "We use a list of 4 integers to represent a monomial in the Higgs potential. There are two ways to represent. One way is to store the indeces of the potential, for example: *(Remark: for quadratic terms, only the first two spots of the list are occupied)*"
   ]
  },
  {
   "cell_type": "markdown",
   "metadata": {},
   "source": [
    "* $[\\phi_i, \\phi_j, \\phi_k, \\phi_l]$ **usual representation:**  $\\quad(\\phi_1^\\dagger\\phi_3)\\mapsto [1,3,0,0]$ , $\\;(\\phi_1^\\dagger \\phi_2)(\\phi_3^\\dagger\\phi_4)\\mapsto [1,2,3,4]$ ,  $\\;(\\phi_3^\\dagger \\phi_2)(\\phi_3^\\dagger\\phi_4)\\mapsto [3,2,3,4]$"
   ]
  },
  {
   "cell_type": "markdown",
   "metadata": {},
   "source": [
    "But in the smith normal form technique, we use another way to represent, namely, we represent a monomial by the powers of each doublet, and denote the power as minus if the doublet is conjugated. For example:"
   ]
  },
  {
   "cell_type": "markdown",
   "metadata": {},
   "source": [
    "* $[c_{\\phi_1}, c_{\\phi_2}, c_{\\phi_3}, c_{\\phi_4}]$ **charge representation** : $\\quad(\\phi_1^\\dagger\\phi_3)\\mapsto [-1,0,1,0]$ $\\;(\\phi_1^\\dagger \\phi_2)(\\phi_3^\\dagger\\phi_4)\\mapsto [-1,1,-1,1]$ , $\\;(\\phi_3^\\dagger \\phi_2)(\\phi_3^\\dagger\\phi_4)\\mapsto [0,1,-2,1]$ "
   ]
  },
  {
   "cell_type": "markdown",
   "metadata": {},
   "source": [
    "It is more natural to write the usual representation. The following function quickly convert the usual representation into the charge representation:"
   ]
  },
  {
   "cell_type": "code",
   "execution_count": 2,
   "metadata": {},
   "outputs": [],
   "source": [
    "def convert(input_form):\n",
    "    c = [0, 0, 0, 0]\n",
    "    c[input_form[0]-1] -= 1\n",
    "    c[input_form[1]-1] += 1\n",
    "    c[input_form[2]-1] -= 1\n",
    "    c[input_form[3]-1] += 1\n",
    "    return c"
   ]
  },
  {
   "cell_type": "code",
   "execution_count": 3,
   "metadata": {
    "scrolled": true
   },
   "outputs": [
    {
     "data": {
      "text/plain": [
       "([-1, 0, 1, 0], [-1, 1, -1, 1], [0, 1, -2, 1])"
      ]
     },
     "execution_count": 3,
     "metadata": {},
     "output_type": "execute_result"
    }
   ],
   "source": [
    "# example:\n",
    "convert([1,3,0,0]), convert([1,2,3,4]), convert([3,2,3,4])"
   ]
  },
  {
   "cell_type": "markdown",
   "metadata": {},
   "source": [
    "## How the generators of abelian groups are represented in the code"
   ]
  },
  {
   "cell_type": "markdown",
   "metadata": {},
   "source": [
    "In 4HDM, generators of abelian group looks like a diagnal matrix, each element on the diagnal line is rephasing of certain doublet. We represent such generator by a list of 4 elements. Each element is the algebraic charge of the doublet."
   ]
  },
  {
   "cell_type": "markdown",
   "metadata": {},
   "source": [
    "For example: the genetator of $\\mathbb{Z}_4$ : $a = \\mbox{diag}(i, i, -1, 1)$ is represented by $[1,1,2,0]$ <p>\n",
    "the generator of $\\mathbb{Z}_4$ : $a^\\prime = \\sqrt{i}\\cdot\\mbox{diag}(i, -1, -i, 1)$ is represented by $0.5 + [1,2,3,0]$ <p> \n",
    "The overall phase factors can be ignored."
   ]
  },
  {
   "cell_type": "markdown",
   "metadata": {},
   "source": [
    "## Run the following cell"
   ]
  },
  {
   "cell_type": "markdown",
   "metadata": {},
   "source": [
    "All 27 4HDM monomials that transform nontrivially will be stored in the list: **fin_li**. You can change the N parameter to get NHDM monomials that transform nontrivially under rephasing."
   ]
  },
  {
   "cell_type": "code",
   "execution_count": 4,
   "metadata": {},
   "outputs": [],
   "source": [
    "N = 4 # means 4HDM. you can change it into any positive integers.\n",
    "\n",
    "def permute(li):\n",
    "    tmp_1 = li[:4]\n",
    "    tmp_2 = li[4:]\n",
    "    resultLi = list(np.hstack([tmp_2, tmp_1]))\n",
    "    return resultLi\n",
    "\n",
    "def minus(list_):\n",
    "    return [-ele for ele in list_]\n",
    "\n",
    "def deleteDuplicatedElementFromList2(list):\n",
    "    resultList = []\n",
    "    for item in list:\n",
    "        if not item in resultList:\n",
    "            if not minus(item) in resultList:\n",
    "                resultList.append(item)\n",
    "    return resultList\n",
    "\n",
    "def deleteDuplicatedElementFromList1(list):\n",
    "    resultList = []\n",
    "    for item in list:\n",
    "        if not item in resultList:\n",
    "            resultList.append(item)\n",
    "    return resultList\n",
    "\n",
    "def deleteDuplicatedElementFromList3(li):\n",
    "    resultList = []\n",
    "    for item in li:\n",
    "        if not item in resultList:\n",
    "            if not permute(item) in resultList:\n",
    "                resultList.append(item)\n",
    "    return resultList\n",
    "\n",
    "li_2 = [[i,j,0,0] for i in range(1,N+1) for j in range(1,N+1)]\n",
    "li_4 = [[i, j, k, l] for i in range(1,N+1) for j in range(1,N+1) for k in range(1,N+1) for l in range(1,N+1)]\n",
    "li = li_2 + li_4\n",
    "converted_li = []\n",
    "for ele in li:\n",
    "    converted_li.append(convert(ele))\n",
    "\n",
    "tmp_li = deleteDuplicatedElementFromList2(converted_li)\n",
    "fin_li = tmp_li[1:]"
   ]
  },
  {
   "cell_type": "code",
   "execution_count": 5,
   "metadata": {},
   "outputs": [
    {
     "name": "stdout",
     "output_type": "stream",
     "text": [
      "length of the list: 27 \n",
      " 4HDM monomials that transform nontrivially under phase rotation:\n"
     ]
    },
    {
     "data": {
      "text/plain": [
       "[[-1, 1, 0, 0],\n",
       " [-1, 0, 1, 0],\n",
       " [-1, 0, 0, 1],\n",
       " [0, -1, 1, 0],\n",
       " [0, -1, 0, 1],\n",
       " [0, 0, -1, 1],\n",
       " [-2, 2, 0, 0],\n",
       " [-2, 1, 1, 0],\n",
       " [-2, 1, 0, 1],\n",
       " [-1, 2, -1, 0],\n",
       " [-1, 1, -1, 1],\n",
       " [-1, 2, 0, -1],\n",
       " [-1, 1, 1, -1],\n",
       " [-2, 0, 2, 0],\n",
       " [-2, 0, 1, 1],\n",
       " [-1, -1, 2, 0],\n",
       " [-1, -1, 1, 1],\n",
       " [-1, 0, 2, -1],\n",
       " [-2, 0, 0, 2],\n",
       " [-1, -1, 0, 2],\n",
       " [-1, 0, -1, 2],\n",
       " [0, -2, 2, 0],\n",
       " [0, -2, 1, 1],\n",
       " [0, -1, 2, -1],\n",
       " [0, -2, 0, 2],\n",
       " [0, -1, -1, 2],\n",
       " [0, 0, -2, 2]]"
      ]
     },
     "execution_count": 5,
     "metadata": {},
     "output_type": "execute_result"
    }
   ],
   "source": [
    "print(\"length of the list:\", len(fin_li), \"\\n 4HDM monomials that transform nontrivially under phase rotation:\")\n",
    "fin_li"
   ]
  },
  {
   "cell_type": "markdown",
   "metadata": {},
   "source": [
    "## Code that gives the potential if inputed abelian generators"
   ]
  },
  {
   "cell_type": "markdown",
   "metadata": {},
   "source": [
    "For cyclic groups: change input in this cell:"
   ]
  },
  {
   "cell_type": "code",
   "execution_count": 6,
   "metadata": {},
   "outputs": [],
   "source": [
    "a = [1,2,3,0] # This is the generator represented by algebraic charge. You can change it according to your need\n",
    "sym = 9.      # This means Z9 group. You can change it according to your need"
   ]
  },
  {
   "cell_type": "markdown",
   "metadata": {},
   "source": [
    "Then run this cell, it will output the potential symmetric under the inputed generator"
   ]
  },
  {
   "cell_type": "code",
   "execution_count": 7,
   "metadata": {},
   "outputs": [
    {
     "data": {
      "text/plain": [
       "[[-2, 1, 0, 1], [-1, 2, -1, 0], [-1, -1, 1, 1]]"
      ]
     },
     "execution_count": 7,
     "metadata": {},
     "output_type": "execute_result"
    }
   ],
   "source": [
    "potential_a = []\n",
    "\n",
    "sum_charge = 0\n",
    "for ele in fin_li:\n",
    "    sum_charge = 0\n",
    "    sum_charge = sum([ele[i]*a[i] for i in range(4)])\n",
    "    if sum_charge % sym == 0:\n",
    "        potential_a.append(ele)\n",
    "\n",
    "potential_a"
   ]
  },
  {
   "cell_type": "markdown",
   "metadata": {},
   "source": [
    "When we are dealing with abelian groups other that cyclic groups, there will be improved version of the code that take multiple generator of the abelian group and output the potential."
   ]
  },
  {
   "cell_type": "markdown",
   "metadata": {},
   "source": [
    "## Code that gives the generator of abelian symmetry if inputed the potential"
   ]
  },
  {
   "cell_type": "markdown",
   "metadata": {},
   "source": [
    "Select three monomials from the potential and input it in the following cell:"
   ]
  },
  {
   "cell_type": "code",
   "execution_count": 22,
   "metadata": {},
   "outputs": [],
   "source": [
    "m = Matrix([[-2, 2, 0, 0], [-1, -1, 1, 1], [-1, 0, -1, 2]]) # change the entry if you like"
   ]
  },
  {
   "cell_type": "markdown",
   "metadata": {},
   "source": [
    "Run the following cell, the output is the type of symmetry. For example, if the output is 4, then the symmetry is Z4"
   ]
  },
  {
   "cell_type": "code",
   "execution_count": 32,
   "metadata": {},
   "outputs": [
    {
     "data": {
      "image/png": "[encoded data removed]",
      "text/latex": [
       "$\\displaystyle -6$"
      ],
      "text/plain": [
       "-6"
      ]
     },
     "execution_count": 32,
     "metadata": {},
     "output_type": "execute_result"
    }
   ],
   "source": [
    "a = smith_normal_form(m)\n",
    "type_of_symmetry = a[2,2]\n",
    "type_of_symmetry\n",
    "a"
   ]
  },
  {
   "cell_type": "markdown",
   "metadata": {},
   "source": [
    "Run the following code, the output is the generator represented as algebraic charge. If report error: integer division or modulo by zero, then the potential have continuous symmetry."
   ]
  },
  {
   "cell_type": "code",
   "execution_count": 29,
   "metadata": {
    "scrolled": true
   },
   "outputs": [
    {
     "data": {
      "image/png": "[encoded data removed]",
      "text/latex": [
       "$\\displaystyle \\left[ -1, \\  -4, \\  -5, \\  0\\right]$"
      ],
      "text/plain": [
       "[-1, -4, -5, 0]"
      ]
     },
     "execution_count": 29,
     "metadata": {},
     "output_type": "execute_result"
    }
   ],
   "source": [
    "tmp = [z.Z(int(m[i])) for i in range(12)]\n",
    "tmp_list = []\n",
    "original_matrix = matrix.Matrix(3, 4, tmp)\n",
    "prob = snfproblem.SNFProblem(original_matrix)\n",
    "prob.computeSNF()\n",
    "for j in range(4):\n",
    "    tmp_list.append(prob.T.get(j,2).a % type_of_symmetry) \n",
    "tmp_list"
   ]
  },
  {
   "cell_type": "markdown",
   "metadata": {},
   "source": [
    "**Based on the previous tools, we check all possible choices of $\\mathbb{Z}_8$, $\\mathbb{Z}_7$, $\\mathbb{Z}_6$, $\\mathbb{Z}_5$, $\\mathbb{Z}_4$ generators and its invariant potential up to permutation and rephasing of doublets. We studied all distinct cases in the paper.**"
   ]
  },
  {
   "cell_type": "markdown",
   "metadata": {},
   "source": [
    "## Obtaining all possible $\\mathbb{Z}_n$ Symmetry generators, for $n=8,7,6,5,4$"
   ]
  },
  {
   "cell_type": "markdown",
   "metadata": {},
   "source": [
    "This cell calculate all possible choices of $\\mathbb{Z}_n$ generators. Duplications concerning rephasing of doublets still exist, but duplications concerning permutation fo doublets are removed. All generators are stored in the list **fin_T**"
   ]
  },
  {
   "cell_type": "markdown",
   "metadata": {},
   "source": [
    "It may happen that there are many choices. In this case, one need to check whether any two are equivalent under rephasing of doublets. In later version of the code, there might be updates that help checking automatically."
   ]
  },
  {
   "cell_type": "markdown",
   "metadata": {},
   "source": [
    "Change the input in the immediate following cell, the number means $n$ in $\\mathbb{Z}_n$"
   ]
  },
  {
   "cell_type": "code",
   "execution_count": 30,
   "metadata": {},
   "outputs": [],
   "source": [
    "sym = 6 # means Z6. You can change it according to your need"
   ]
  },
  {
   "cell_type": "markdown",
   "metadata": {},
   "source": [
    "Then run this cell, the output is all possible $\\mathbb{Z}_n$ generators"
   ]
  },
  {
   "cell_type": "code",
   "execution_count": 31,
   "metadata": {},
   "outputs": [
    {
     "data": {
      "image/png": "[encoded data removed]",
      "text/latex": [
       "$\\displaystyle \\left[ \\left[ 0, \\  1, \\  2, \\  5\\right], \\  \\left[ 0, \\  2, \\  4, \\  5\\right], \\  \\left[ 0, \\  1, \\  3, \\  5\\right], \\  \\left[ 0, \\  3, \\  4, \\  5\\right], \\  \\left[ 0, \\  1, \\  2, \\  3\\right], \\  \\left[ 0, \\  1, \\  4, \\  5\\right], \\  \\left[ 0, \\  1, \\  2, \\  4\\right], \\  \\left[ 0, \\  2, \\  3, \\  4\\right]\\right]$"
      ],
      "text/plain": [
       "[[0, 1, 2, 5], [0, 2, 4, 5], [0, 1, 3, 5], [0, 3, 4, 5], [0, 1, 2, 3], [0, 1,  ↪\n",
       "\n",
       "↪ 4, 5], [0, 1, 2, 4], [0, 2, 3, 4]]"
      ]
     },
     "execution_count": 31,
     "metadata": {},
     "output_type": "execute_result"
    }
   ],
   "source": [
    "def permutation(li):\n",
    "    tmp = list(itertools.permutations(li))\n",
    "    result = []\n",
    "    for ele in tmp:\n",
    "        result.append(list(ele))\n",
    "    result = deleteDuplicatedElementFromList1(result)\n",
    "    return result\n",
    "\n",
    "def perm_eq(li1, li2):\n",
    "    li1_perm = permutation(li1)\n",
    "    if li2 in li1_perm:\n",
    "        return True\n",
    "    else:\n",
    "        return False\n",
    "\n",
    "\n",
    "fin_m = []\n",
    "for i in range(len(fin_li)):\n",
    "    for j in range(i+1, len(fin_li)):\n",
    "        for k in range(j+1, len(fin_li)):\n",
    "            mat = Matrix([fin_li[i], fin_li[j], fin_li[k]])\n",
    "            a = smith_normal_form(mat)\n",
    "            if np.abs(np.max(a)) == sym:\n",
    "                fin_m.append(mat)\n",
    "                \n",
    "fin_T = []\n",
    "\n",
    "for k in range(len(fin_m)):\n",
    "    tmp = [z.Z(int(fin_m[k][i])) for i in range(12)]\n",
    "    tmp_list = []\n",
    "    original_matrix = matrix.Matrix(3, 4, tmp)\n",
    "    prob = snfproblem.SNFProblem(original_matrix)\n",
    "    prob.computeSNF()\n",
    "    for j in range(4):\n",
    "        tmp_list.append(prob.T.get(j,2).a) \n",
    "    fin_T.append(tmp_list)\n",
    "    \n",
    "    \n",
    "# remove completely duplicated elements\n",
    "for i in range(len(fin_T)):\n",
    "    for j in range(4):\n",
    "        fin_T[i][j] = fin_T[i][j] % sym\n",
    "fin_T = deleteDuplicatedElementFromList2(fin_T)\n",
    "\n",
    "\n",
    "# remove equivalent elements up to permutation of doublets\n",
    "tmp = copy.deepcopy(fin_T)\n",
    "list_without_perm = []\n",
    "\n",
    "for i in range(len(fin_T)):\n",
    "    for j in range(i+1, len(fin_T)):\n",
    "        if perm_eq(fin_T[i], fin_T[j]):\n",
    "            tmp[i] = 0\n",
    "            \n",
    "for ele in tmp:\n",
    "    if not ele==0:\n",
    "        list_without_perm.append(sorted(ele))\n",
    "            \n",
    "# update results\n",
    "fin_T = []\n",
    "fin_T = copy.deepcopy(list_without_perm)\n",
    "fin_T"
   ]
  },
  {
   "cell_type": "markdown",
   "metadata": {},
   "source": [
    "*Then, after removing equivalent generators up to rephasing, you can use previous code --- **Code that gives the potential if inputed abelian generators** to generate the invariant potential under these non-equvilant generators*"
   ]
  },
  {
   "cell_type": "markdown",
   "metadata": {},
   "source": [
    "## Get generators of $\\mathbb{Z}_2\\times\\mathbb{Z}_2$, $\\mathbb{Z}_4\\times\\mathbb{Z}_2$, $\\mathbb{Z}_2\\times\\mathbb{Z}_2\\times\\mathbb{Z}_2$"
   ]
  },
  {
   "cell_type": "code",
   "execution_count": 13,
   "metadata": {},
   "outputs": [],
   "source": [
    "sym = 4 \n",
    "symmetry_Z2_Z2_Z2 = []\n",
    "symmetry_Z2_Z2_Z2_n = []\n",
    "symmetry_Z2_Z4 = []\n",
    "symmetry_Z2_Z4_n = []\n",
    "symmetry_Z2_Z2 = []\n",
    "symmetry_Z2_Z2_n = []\n",
    "for i in range(len(fin_li)):\n",
    "    for j in range(i+1, len(fin_li)):\n",
    "        for k in range(j+1, len(fin_li)):\n",
    "            matrix = Matrix([fin_li[i], fin_li[j], fin_li[k]])\n",
    "            a = smith_normal_form(matrix)\n",
    "            if np.abs(a[0,0])==1 and np.abs(a[1,1])==2 and np.abs(a[2,2])==2:\n",
    "                symmetry_Z2_Z2.append(matrix)\n",
    "                symmetry_Z2_Z2_n.append(a)\n",
    "            if np.abs(a[0,0])==1 and np.abs(a[1,1])==2 and np.abs(a[2,2])==4:\n",
    "                symmetry_Z2_Z4.append(matrix)\n",
    "                symmetry_Z2_Z4_n.append(a)\n",
    "            if np.abs(a[0,0])==2 and np.abs(a[1,1])==2 and np.abs(a[2,2])==2:\n",
    "                symmetry_Z2_Z2_Z2.append(matrix)\n",
    "                symmetry_Z2_Z2_Z2_n.append(a)"
   ]
  },
  {
   "cell_type": "markdown",
   "metadata": {},
   "source": [
    "## Symmetry $\\mathbb{Z}_2\\times\\mathbb{Z}_2\\times\\mathbb{Z}_2$"
   ]
  },
  {
   "cell_type": "markdown",
   "metadata": {},
   "source": [
    "other cases, $\\mathbb{Z}_2\\times\\mathbb{Z}_2$, and $\\mathbb{Z}_4\\times\\mathbb{Z}_2$ are very similar"
   ]
  },
  {
   "cell_type": "markdown",
   "metadata": {},
   "source": [
    "### find the list of generators, which is equvalant"
   ]
  },
  {
   "cell_type": "code",
   "execution_count": 14,
   "metadata": {},
   "outputs": [],
   "source": [
    "from smithnormalform import matrix, snfproblem, z\n",
    "\n",
    "symmetry_Z2_Z2_Z2_charge_1 = []\n",
    "symmetry_Z2_Z2_Z2_charge_2 = []\n",
    "symmetry_Z2_Z2_Z2_charge_3 = []\n",
    "\n",
    "for k in range(len(symmetry_Z2_Z2_Z2)):\n",
    "    tmp = [z.Z(int(symmetry_Z2_Z2_Z2[k][i])) for i in range(12)]\n",
    "    tmp_list_1 = []\n",
    "    tmp_list_2 = []\n",
    "    tmp_list_3 = []\n",
    "    original_matrix = matrix.Matrix(3, 4, tmp)\n",
    "    prob = snfproblem.SNFProblem(original_matrix)\n",
    "    prob.computeSNF()\n",
    "    for j in range(4):\n",
    "        tmp_list_1.append(prob.T.get(j,0).a)\n",
    "        tmp_list_2.append(prob.T.get(j,1).a)\n",
    "        tmp_list_3.append(prob.T.get(j,2).a) \n",
    "        \n",
    "    symmetry_Z2_Z2_Z2_charge_1.append(tmp_list_1)\n",
    "    symmetry_Z2_Z2_Z2_charge_2.append(tmp_list_2)\n",
    "    symmetry_Z2_Z2_Z2_charge_3.append(tmp_list_3)\n",
    "    \n",
    "for i in range(len(symmetry_Z2_Z2_Z2_charge_1)):\n",
    "    for j in range(4):\n",
    "        symmetry_Z2_Z2_Z2_charge_1[i][j] = symmetry_Z2_Z2_Z2_charge_1[i][j] % 2\n",
    "\n",
    "for i in range(len(symmetry_Z2_Z2_Z2_charge_2)):\n",
    "    for j in range(4):\n",
    "        symmetry_Z2_Z2_Z2_charge_2[i][j] = symmetry_Z2_Z2_Z2_charge_2[i][j] % 2\n",
    "        \n",
    "for i in range(len(symmetry_Z2_Z2_Z2_charge_3)):\n",
    "    for j in range(4):\n",
    "        symmetry_Z2_Z2_Z2_charge_3[i][j] = symmetry_Z2_Z2_Z2_charge_3[i][j] % 2\n",
    "        \n",
    "        \n",
    "symmetry_Z2_Z2_Z2_charge_compact = []\n",
    "for i in range(len(symmetry_Z2_Z2_Z2_charge_1)):\n",
    "    tmp = np.hstack([symmetry_Z2_Z2_Z2_charge_1[i], symmetry_Z2_Z2_Z2_charge_2[i], symmetry_Z2_Z2_Z2_charge_3[i]])\n",
    "    symmetry_Z2_Z2_Z2_charge_compact.append(list(tmp))\n",
    "symmetry_Z2_Z2_Z2_charge_compact = deleteDuplicatedElementFromList1(symmetry_Z2_Z2_Z2_charge_compact)"
   ]
  },
  {
   "cell_type": "markdown",
   "metadata": {},
   "source": [
    "Generators:\n",
    "$$\n",
    "a_1 = \\sqrt{i}\\cdot\\mbox{diag}(-1,1,1,1)\\,,\\quad a_2 = \\sqrt{i}\\cdot\\mbox{diag}(1,-1,1,1)\\,,\\quad a_3 = \\sqrt{i}\\cdot\\mbox{diag}(1,1,-1,1)\\,,\\quad\n",
    "$$"
   ]
  },
  {
   "cell_type": "markdown",
   "metadata": {},
   "source": [
    "therefore, choose one representative, then the potential is:"
   ]
  },
  {
   "cell_type": "code",
   "execution_count": 15,
   "metadata": {},
   "outputs": [
    {
     "data": {
      "text/plain": [
       "[[-2, 2, 0, 0],\n",
       " [-2, 0, 2, 0],\n",
       " [-2, 0, 0, 2],\n",
       " [0, -2, 2, 0],\n",
       " [0, -2, 0, 2],\n",
       " [0, 0, -2, 2]]"
      ]
     },
     "execution_count": 15,
     "metadata": {},
     "output_type": "execute_result"
    }
   ],
   "source": [
    "N = 7\n",
    "\n",
    "a1 = symmetry_Z2_Z2_Z2_charge_compact[N][0:4]\n",
    "a2 = symmetry_Z2_Z2_Z2_charge_compact[N][4:8]\n",
    "a3 = symmetry_Z2_Z2_Z2_charge_compact[N][8:]\n",
    "\n",
    "potential = []\n",
    "\n",
    "for ele in fin_li:\n",
    "    sum_charge_1 = 0\n",
    "    sum_charge_2 = 0\n",
    "    sum_charge_3 = 0\n",
    "    sum_charge_1 = sum([ele[i]*a1[i] for i in range(4)])\n",
    "    sum_charge_2 = sum([ele[i]*a2[i] for i in range(4)])\n",
    "    sum_charge_3 = sum([ele[i]*a3[i] for i in range(4)])\n",
    "    if sum_charge_1 % 2 == 0:\n",
    "        if sum_charge_2 % 2 == 0:\n",
    "            if sum_charge_3 % 2 == 0:\n",
    "                potential.append(ele)\n",
    "\n",
    "potential"
   ]
  },
  {
   "cell_type": "markdown",
   "metadata": {},
   "source": [
    "# Code that solves complicacted matrix equations"
   ]
  },
  {
   "cell_type": "markdown",
   "metadata": {},
   "source": [
    "We give an example function which solves matrix equations in the case $\\mathbb{Z}_4\\times\\mathbb{Z}_4$. Other generalization of this function is easily done."
   ]
  },
  {
   "cell_type": "code",
   "execution_count": 20,
   "metadata": {},
   "outputs": [],
   "source": [
    "import numpy as np\n",
    "import sympy as sp\n",
    "from sympy import solve\n",
    "from sympy import Symbol\n",
    "from sympy import *\n",
    "init_printing(use_unicode=True)\n",
    "\n",
    "def solve_equation(B):\n",
    "    b11 = Symbol('b_11')\n",
    "    b12 = Symbol('b_12')\n",
    "    b13 = Symbol('b_13')\n",
    "    b14 = Symbol('b_14')\n",
    "    b21 = Symbol('b_21')\n",
    "    b22 = Symbol('b_22')\n",
    "    b23 = Symbol('b_23')\n",
    "    b24 = Symbol('b_24')\n",
    "    b31 = Symbol('b_31')\n",
    "    b32 = Symbol('b_32')\n",
    "    b33 = Symbol('b_33')\n",
    "    b34 = Symbol('b_34')\n",
    "    b41 = Symbol('b_41')\n",
    "    b42 = Symbol('b_42')\n",
    "    b43 = Symbol('b_43')\n",
    "    b44 = Symbol('b_44')\n",
    "\n",
    "    b = Matrix([[b11, b12, b13, b14], [b21, b22, b23, b24], [b31, b32, b33, b34], [b41, b42, b43, b44]])\n",
    "    zeros = Matrix([[0, 0, 0, 0], [0, 0, 0, 0], [0, 0, 0, 0], [0, 0, 0, 0]])\n",
    "    a1 = sp.sqrt(sp.I) * Matrix([[sp.I, 0, 0, 0], [0, sp.I**2, 0, 0], [0, 0, sp.I**3, 0], [0, 0, 0, sp.I**4]])\n",
    "    a2 = sp.sqrt(sp.I) * Matrix([[0, 1, 0, 0], [0, 0, 1, 0], [0, 0, 0, 1], [1, 0, 0, 0]])\n",
    "    list_of_b = [b11,b12,b13,b14,b21,b22,b23,b24,b31,b32,b33,b34,b41,b42,b43,b44]\n",
    "\n",
    "    V = []\n",
    "    ind = []\n",
    "\n",
    "    for m in range(4):\n",
    "        for n in range(4):\n",
    "\n",
    "            M1 = a1*b - b*(a1**B[0,0] * a2**B[0,1])*sp.I**m\n",
    "            M2 = a2*b - b*(a1**B[1,0] * a2**B[1,1])*sp.I**n\n",
    "\n",
    "            i = 0\n",
    "            Product_M1 = Matrix(np.zeros([16,16]))\n",
    "            for ele in M1:\n",
    "                for j in range(16):\n",
    "                    Product_M1[i,j] = ele.coeff(list_of_b[j])\n",
    "                i += 1\n",
    "\n",
    "            i = 0\n",
    "            Product_M2 = Matrix(np.zeros([16,16]))\n",
    "            for ele in M2:\n",
    "                for j in range(16):\n",
    "                    Product_M2[i,j] = ele.coeff(list_of_b[j])\n",
    "                i += 1\n",
    "\n",
    "            M = Product_M1.col_join(Product_M2)\n",
    "            M_null_space = M.nullspace()\n",
    "            if not len(M_null_space)==0:\n",
    "                for ele in M_null_space:\n",
    "                    V.append(ele)\n",
    "                    ind.append([m,n])\n",
    "\n",
    "                \n",
    "    Result_b = []\n",
    "\n",
    "    for i in range(len(V)):\n",
    "        M_tmp = Matrix([[V[i][0],V[i][1],V[i][2],V[i][3]], \n",
    "                        [V[i][4],V[i][5],V[i][6],V[i][7]],\n",
    "                        [V[i][8],V[i][9],V[i][10],V[i][11]],\n",
    "                        [V[i][12],V[i][13],V[i][14],V[i][15]]])\n",
    "        Result_b.append(M_tmp)\n",
    "        \n",
    "    return Result_b, ind"
   ]
  },
  {
   "cell_type": "markdown",
   "metadata": {},
   "source": [
    "example: find $PSU(4)$ representation of the given $GL(2,\\mathbb{Z}_4)$ matrix; output a lot of solutions, mang of which represents the same element in $PSU(4)$."
   ]
  },
  {
   "cell_type": "code",
   "execution_count": 35,
   "metadata": {
    "scrolled": true
   },
   "outputs": [
    {
     "data": {
      "image/png": "[encoded data removed]",
      "text/latex": [
       "$\\displaystyle \\left[ \\left[\\begin{matrix}i & 0 & 0 & 0\\\\0 & 1 & 0 & 0\\\\0 & 0 & i & 0\\\\0 & 0 & 0 & 1\\end{matrix}\\right], \\  \\left[\\begin{matrix}-1 & 0 & 0 & 0\\\\0 & -1 & 0 & 0\\\\0 & 0 & 1 & 0\\\\0 & 0 & 0 & 1\\end{matrix}\\right], \\  \\left[\\begin{matrix}- i & 0 & 0 & 0\\\\0 & 1 & 0 & 0\\\\0 & 0 & - i & 0\\\\0 & 0 & 0 & 1\\end{matrix}\\right], \\  \\left[\\begin{matrix}1 & 0 & 0 & 0\\\\0 & -1 & 0 & 0\\\\0 & 0 & -1 & 0\\\\0 & 0 & 0 & 1\\end{matrix}\\right], \\  \\left[\\begin{matrix}0 & 0 & 0 & - i\\\\1 & 0 & 0 & 0\\\\0 & - i & 0 & 0\\\\0 & 0 & 1 & 0\\end{matrix}\\right], \\  \\left[\\begin{matrix}0 & 0 & 0 & 1\\\\-1 & 0 & 0 & 0\\\\0 & -1 & 0 & 0\\\\0 & 0 & 1 & 0\\end{matrix}\\right], \\  \\left[\\begin{matrix}0 & 0 & 0 & i\\\\1 & 0 & 0 & 0\\\\0 & i & 0 & 0\\\\0 & 0 & 1 & 0\\end{matrix}\\right], \\  \\left[\\begin{matrix}0 & 0 & 0 & -1\\\\-1 & 0 & 0 & 0\\\\0 & 1 & 0 & 0\\\\0 & 0 & 1 & 0\\end{matrix}\\right], \\  \\left[\\begin{matrix}0 & 0 & i & 0\\\\0 & 0 & 0 & 1\\\\i & 0 & 0 & 0\\\\0 & 1 & 0 & 0\\end{matrix}\\right], \\  \\left[\\begin{matrix}0 & 0 & -1 & 0\\\\0 & 0 & 0 & -1\\\\1 & 0 & 0 & 0\\\\0 & 1 & 0 & 0\\end{matrix}\\right], \\  \\left[\\begin{matrix}0 & 0 & - i & 0\\\\0 & 0 & 0 & 1\\\\- i & 0 & 0 & 0\\\\0 & 1 & 0 & 0\\end{matrix}\\right], \\  \\left[\\begin{matrix}0 & 0 & 1 & 0\\\\0 & 0 & 0 & -1\\\\-1 & 0 & 0 & 0\\\\0 & 1 & 0 & 0\\end{matrix}\\right], \\  \\left[\\begin{matrix}0 & - i & 0 & 0\\\\0 & 0 & 1 & 0\\\\0 & 0 & 0 & - i\\\\1 & 0 & 0 & 0\\end{matrix}\\right], \\  \\left[\\begin{matrix}0 & 1 & 0 & 0\\\\0 & 0 & -1 & 0\\\\0 & 0 & 0 & -1\\\\1 & 0 & 0 & 0\\end{matrix}\\right], \\  \\left[\\begin{matrix}0 & i & 0 & 0\\\\0 & 0 & 1 & 0\\\\0 & 0 & 0 & i\\\\1 & 0 & 0 & 0\\end{matrix}\\right], \\  \\left[\\begin{matrix}0 & -1 & 0 & 0\\\\0 & 0 & -1 & 0\\\\0 & 0 & 0 & 1\\\\1 & 0 & 0 & 0\\end{matrix}\\right]\\right]$"
      ],
      "text/plain": [
       "⎡⎡ⅈ  0  0  0⎤  ⎡-1  0   0  0⎤  ⎡-ⅈ  0  0   0⎤  ⎡1  0   0   0⎤  ⎡0  0   0  -ⅈ⎤  ↪\n",
       "⎢⎢          ⎥  ⎢            ⎥  ⎢            ⎥  ⎢            ⎥  ⎢            ⎥  ↪\n",
       "⎢⎢0  1  0  0⎥  ⎢0   -1  0  0⎥  ⎢0   1  0   0⎥  ⎢0  -1  0   0⎥  ⎢1  0   0  0 ⎥  ↪\n",
       "⎢⎢          ⎥, ⎢            ⎥, ⎢            ⎥, ⎢            ⎥, ⎢            ⎥, ↪\n",
       "⎢⎢0  0  ⅈ  0⎥  ⎢0   0   1  0⎥  ⎢0   0  -ⅈ  0⎥  ⎢0  0   -1  0⎥  ⎢0  -ⅈ  0  0 ⎥  ↪\n",
       "⎢⎢          ⎥  ⎢            ⎥  ⎢            ⎥  ⎢            ⎥  ⎢            ⎥  ↪\n",
       "⎣⎣0  0  0  1⎦  ⎣0   0   0  1⎦  ⎣0   0  0   1⎦  ⎣0  0   0   1⎦  ⎣0  0   1  0 ⎦  ↪\n",
       "\n",
       "↪  ⎡0   0   0  1⎤  ⎡0  0  0  ⅈ⎤  ⎡0   0  0  -1⎤  ⎡0  0  ⅈ  0⎤  ⎡0  0  -1  0 ⎤  ↪\n",
       "↪  ⎢            ⎥  ⎢          ⎥  ⎢            ⎥  ⎢          ⎥  ⎢            ⎥  ↪\n",
       "↪  ⎢-1  0   0  0⎥  ⎢1  0  0  0⎥  ⎢-1  0  0  0 ⎥  ⎢0  0  0  1⎥  ⎢0  0  0   -1⎥  ↪\n",
       "↪  ⎢            ⎥, ⎢          ⎥, ⎢            ⎥, ⎢          ⎥, ⎢            ⎥, ↪\n",
       "↪  ⎢0   -1  0  0⎥  ⎢0  ⅈ  0  0⎥  ⎢0   1  0  0 ⎥  ⎢ⅈ  0  0  0⎥  ⎢1  0  0   0 ⎥  ↪\n",
       "↪  ⎢            ⎥  ⎢          ⎥  ⎢            ⎥  ⎢          ⎥  ⎢            ⎥  ↪\n",
       "↪  ⎣0   0   1  0⎦  ⎣0  0  1  0⎦  ⎣0   0  1  0 ⎦  ⎣0  1  0  0⎦  ⎣0  1  0   0 ⎦  ↪\n",
       "\n",
       "↪  ⎡0   0  -ⅈ  0⎤  ⎡0   0  1  0 ⎤  ⎡0  -ⅈ  0  0 ⎤  ⎡0  1  0   0 ⎤  ⎡0  ⅈ  0  0 ↪\n",
       "↪  ⎢            ⎥  ⎢            ⎥  ⎢            ⎥  ⎢            ⎥  ⎢           ↪\n",
       "↪  ⎢0   0  0   1⎥  ⎢0   0  0  -1⎥  ⎢0  0   1  0 ⎥  ⎢0  0  -1  0 ⎥  ⎢0  0  1  0 ↪\n",
       "↪  ⎢            ⎥, ⎢            ⎥, ⎢            ⎥, ⎢            ⎥, ⎢           ↪\n",
       "↪  ⎢-ⅈ  0  0   0⎥  ⎢-1  0  0  0 ⎥  ⎢0  0   0  -ⅈ⎥  ⎢0  0  0   -1⎥  ⎢0  0  0  ⅈ ↪\n",
       "↪  ⎢            ⎥  ⎢            ⎥  ⎢            ⎥  ⎢            ⎥  ⎢           ↪\n",
       "↪  ⎣0   1  0   0⎦  ⎣0   1  0  0 ⎦  ⎣1  0   0  0 ⎦  ⎣1  0  0   0 ⎦  ⎣1  0  0  0 ↪\n",
       "\n",
       "↪ ⎤  ⎡0  -1  0   0⎤⎤\n",
       "↪ ⎥  ⎢            ⎥⎥\n",
       "↪ ⎥  ⎢0  0   -1  0⎥⎥\n",
       "↪ ⎥, ⎢            ⎥⎥\n",
       "↪ ⎥  ⎢0  0   0   1⎥⎥\n",
       "↪ ⎥  ⎢            ⎥⎥\n",
       "↪ ⎦  ⎣1  0   0   0⎦⎦"
      ]
     },
     "execution_count": 35,
     "metadata": {},
     "output_type": "execute_result"
    }
   ],
   "source": [
    "Result, ind = solve_equation(np.array([[1,0], [2,1]]))\n",
    "Result"
   ]
  },
  {
   "cell_type": "markdown",
   "metadata": {},
   "source": [
    "## find coefficients relations for $\\mathbb{Z}_4\\times\\mathbb{Z}_4$"
   ]
  },
  {
   "cell_type": "markdown",
   "metadata": {},
   "source": [
    "all possible combinaitons of two rephasing transformations, $a_1$, $a_2$ both of order 4, will lead to continuous symmetry. In fact, the 4HDM $\\mathbb{Z}_4\\times\\mathbb{Z}_4$ symmetry which don't lead to larger symmetries is rather paticuliar, with generators looking like this. They commute in $PSU(4)$"
   ]
  },
  {
   "cell_type": "markdown",
   "metadata": {},
   "source": [
    "$$\n",
    "a_1 = \\sqrt{i}\\cdot\n",
    "\\begin{pmatrix}\n",
    "i & 0 & 0 & 0 \\\\\n",
    "0 & -1 & 0 & 0 \\\\\n",
    "0 & 0 & -i & 0 \\\\\n",
    "0 & 0 & 0 & 1\n",
    "\\end{pmatrix}\n",
    "\\;,\\quad\n",
    "a_2 = \\sqrt{i}\\cdot\n",
    "\\begin{pmatrix}\n",
    "0 & 1 & 0 & 0 \\\\\n",
    "0 & 0 & 1 & 0 \\\\\n",
    "0 & 0 & 0 & 1 \\\\\n",
    "1 & 0 & 0 & 0 \\\\\n",
    "\\end{pmatrix}\n",
    "$$"
   ]
  },
  {
   "cell_type": "markdown",
   "metadata": {},
   "source": [
    "the invariant potental looks like this:"
   ]
  },
  {
   "cell_type": "markdown",
   "metadata": {},
   "source": [
    "$$\n",
    "V(\\mathbb{Z}_4\\times\\mathbb{Z}_4) = \\sum_{i=0}^{10}\\,r_i\\,W_i\n",
    "$$"
   ]
  },
  {
   "cell_type": "markdown",
   "metadata": {},
   "source": [
    "where $r_i\\in \\mathbb{R}$, and\n",
    "$$\n",
    "\\begin{aligned}\n",
    "& W_0 = (\\phi_1^\\dagger\\phi_1) + (\\phi_2^\\dagger\\phi_2) + (\\phi_3^\\dagger\\phi_3) + (\\phi_4^\\dagger\\phi_4)\\\\\n",
    "& W_1 = W_0^2\\\\\n",
    "& W_2 = (\\phi_1^\\dagger\\phi_1)(\\phi_1^\\dagger\\phi_1) + (\\phi_1^\\dagger\\phi_1)(\\phi_2^\\dagger\\phi_2) + (\\phi_1^\\dagger\\phi_1)(\\phi_3^\\dagger\\phi_3) + (\\phi_1^\\dagger\\phi_1)(\\phi_4^\\dagger\\phi_4) + (\\phi_1^\\dagger\\phi_2)(\\phi_2^\\dagger\\phi_1) + (\\phi_1^\\dagger\\phi_3)(\\phi_3^\\dagger\\phi_1) + (\\phi_1^\\dagger\\phi_4)(\\phi_4^\\dagger\\phi_1) + (\\phi_2^\\dagger\\phi_2)(\\phi_2^\\dagger\\phi_2) + (\\phi_2^\\dagger\\phi_2)(\\phi_3^\\dagger\\phi_3) + (\\phi_2^\\dagger\\phi_2)(\\phi_4^\\dagger\\phi_4) + (\\phi_2^\\dagger\\phi_3)(\\phi_3^\\dagger\\phi_2) + (\\phi_2^\\dagger\\phi_4)(\\phi_4^\\dagger\\phi_2) + (\\phi_3^\\dagger\\phi_3)(\\phi_3^\\dagger\\phi_3) + (\\phi_3^\\dagger\\phi_3)(\\phi_4^\\dagger\\phi_4) + (\\phi_3^\\dagger\\phi_4)(\\phi_4^\\dagger\\phi_3) + (\\phi_4^\\dagger\\phi_4)(\\phi_4^\\dagger\\phi_4)\\\\\\\\\n",
    "& W_3 = (\\phi_1^\\dagger\\phi_1)(\\phi_3^\\dagger\\phi_3) + (\\phi_2^\\dagger\\phi_2)(\\phi_4^\\dagger\\phi_4)\\\\\n",
    "& W_4 = (\\phi_1^\\dagger\\phi_3)(\\phi_3^\\dagger\\phi_1) + (\\phi_2^\\dagger\\phi_4)(\\phi_4^\\dagger\\phi_2)\\\\\n",
    "& W_5 = (\\phi_1^\\dagger\\phi_2)(\\phi_1^\\dagger\\phi_4) + (\\phi_2^\\dagger\\phi_1)(\\phi_2^\\dagger\\phi_3) + (\\phi_3^\\dagger\\phi_2)(\\phi_3^\\dagger\\phi_4) + (\\phi_4^\\dagger\\phi_1)(\\phi_4^\\dagger\\phi_3)\\\\\n",
    "& W_6 = (\\phi_1^\\dagger\\phi_2)(\\phi_3^\\dagger\\phi_2) + (\\phi_1^\\dagger\\phi_4)(\\phi_3^\\dagger\\phi_4) + (\\phi_2^\\dagger\\phi_1)(\\phi_4^\\dagger\\phi_1) + (\\phi_2^\\dagger\\phi_3)(\\phi_4^\\dagger\\phi_3)\\\\\n",
    "& W_7 = (\\phi_1^\\dagger\\phi_2)(\\phi_2^\\dagger\\phi_1) + (\\phi_1^\\dagger\\phi_4)(\\phi_4^\\dagger\\phi_1) + (\\phi_2^\\dagger\\phi_3)(\\phi_3^\\dagger\\phi_2) + (\\phi_3^\\dagger\\phi_4)(\\phi_4^\\dagger\\phi_3)\\\\\n",
    "& W_8 = (\\phi_1^\\dagger\\phi_3)^2 + (\\phi_2^\\dagger\\phi_4)^2 + (\\phi_3^\\dagger\\phi_1)^2 + (\\phi_4^\\dagger\\phi_2)^2\\\\\n",
    "& W_9 = (\\phi_1^\\dagger\\phi_2)(\\phi_4^\\dagger\\phi_3) + (\\phi_1^\\dagger\\phi_4)(\\phi_2^\\dagger\\phi_3) + (\\phi_2^\\dagger\\phi_1)(\\phi_3^\\dagger\\phi_4) + (\\phi_3^\\dagger\\phi_2)(\\phi_4^\\dagger\\phi_1)\\\\\n",
    "& W_{10} = (\\phi_1^\\dagger\\phi_3)(\\phi_2^\\dagger\\phi_4) + (\\phi_1^\\dagger\\phi_3)(\\phi_4^\\dagger\\phi_2) + (\\phi_2^\\dagger\\phi_4)(\\phi_3^\\dagger\\phi_1) + (\\phi_3^\\dagger\\phi_1)(\\phi_4^\\dagger\\phi_2)\\\\\n",
    "\\end{aligned}\n",
    "$$"
   ]
  },
  {
   "cell_type": "markdown",
   "metadata": {},
   "source": [
    "among them, $r_0W_0 + r_1W_1 + r_2W_2$ is invariant under $SU(4)$, which need not to be considered. terms that need to be considered are $i=3,4,5,6,7,8,9,10$. If further symmetries are imposed, there will be relations among coefficients $r_3\\sim r_{10}$"
   ]
  },
  {
   "cell_type": "code",
   "execution_count": 33,
   "metadata": {},
   "outputs": [],
   "source": [
    "# run the following code\n",
    "\n",
    "import numpy as np\n",
    "\n",
    "phi_quadratic = {}\n",
    "phi_quartic = {}\n",
    "phi_quartic_list = []\n",
    "\n",
    "count = 1\n",
    "for i in range(1,5):\n",
    "    for j in range(1,5):\n",
    "        phi_quadratic[count] = [i,j]#Phi_d[i]*Phi[j]\n",
    "        count += 1\n",
    "        \n",
    "count = 1\n",
    "for i in range(1,5):\n",
    "    for j in range(1,5):\n",
    "        for k in range(1,5):\n",
    "            for l in range(1,5):\n",
    "                tmp = [i,j,k,l]#Phi_d[i]*Phi[j]*Phi_d[k]*Phi[l]\n",
    "                tmp_tr = [k,l,i,j] #Phi_d[k]*Phi[l]*Phi_d[i]*Phi[j]\n",
    "                if tmp_tr in phi_quartic_list:\n",
    "                    continue\n",
    "                else:\n",
    "                    phi_quartic_list.append([i,j,k,l]) #append((Phi_d[i]*Phi[j])*(Phi_d[k]*Phi[l]))\n",
    "                    count += 1\n",
    "                    \n",
    "for n in range(len(phi_quartic_list)):\n",
    "    phi_quartic[n] = phi_quartic_list[n]\n",
    "    \n",
    "\n",
    "r3 = Symbol('r_3')\n",
    "r4 = Symbol('r_4')\n",
    "r5 = Symbol('r_5')\n",
    "r6 = Symbol('r_6')\n",
    "r7 = Symbol('r_7')\n",
    "r8 = Symbol('r_8')\n",
    "r9 = Symbol('r_9')\n",
    "r10 = Symbol('r_10')\n",
    "\n",
    "\n",
    "phi_quartic_list_old = [[1,1,3,3], [2,2,4,4], \n",
    "                        [1,3,3,1], [2,4,4,2], \n",
    "                        \n",
    "                        [1,2,4,3], [1,4,2,3], [2,1,3,4], [3,2,4,1], \n",
    "                        [1,3,2,4], [1,3,4,2], [2,4,3,1], [3,1,4,2],\n",
    "                        [1,2,2,1], [1,4,4,1], [2,3,3,2], [3,4,4,3], \n",
    "                        [1,3,1,3], [2,4,2,4], [3,1,3,1], [4,2,4,2], \n",
    "                        \n",
    "                        [1,2,1,4], [2,1,2,3], [3,2,3,4], [4,1,4,3], \n",
    "                        [1,2,3,2], [1,4,3,4], [2,1,4,1], [2,3,4,3],]\n",
    "\n",
    "phi_quartic = {0:r3, 1:r3, \n",
    "               2:r4, 3:r4, \n",
    "               4:r5, 5:r5, 6:r5, 7:r5, \n",
    "               8:r6, 9:r6, 10:r6, 11:r6, \n",
    "               12:r7, 13:r7, 14:r7, 15:r7, \n",
    "               16:r8, 17:r8, 18:r8, 19:r8, \n",
    "               20:r9+sp.I*r10, 21:r9+sp.I*r10, 22:r9+sp.I*r10, 23:r9+sp.I*r10, #24:r9, 25:r9, 26:r9, 27:r9,\n",
    "               24:r9-sp.I*r10, 25:r9-sp.I*r10, 26:r9-sp.I*r10, 27:r9-sp.I*r10, #32:-sp.I*r10, 33:-sp.I*r10, 34:-sp.I*r10, 35:-sp.I*r10, \n",
    "              }\n",
    "\n",
    "phi_quartic_coeff = [phi_quartic[n] for n in range(len(phi_quartic_list_old))]\n",
    "\n",
    "def find_relation_among_coeff(b_):\n",
    "    N = len(phi_quartic_coeff)\n",
    "\n",
    "    Y = Matrix(np.zeros([N,136]))\n",
    "\n",
    "    for n in range(len(phi_quartic_list_old)):\n",
    "        [i,j,k,l] = phi_quartic_list_old[n]\n",
    "        tmp_i = b_[i-1,:]\n",
    "        tmp_j = b_[j-1,:]\n",
    "        tmp_k = b_[k-1,:]\n",
    "        tmp_l = b_[l-1,:]\n",
    "        for i1 in range(1,5):\n",
    "            for j1 in range(1,5):\n",
    "                for k1 in range(1,5):\n",
    "                    for l1 in range(1,5):\n",
    "                        tmp_list1 = [i1,j1,k1,l1] \n",
    "                        if tmp_list1 in phi_quartic_list:\n",
    "                            index = phi_quartic_list.index(tmp_list1)\n",
    "                            Y[n,index] += phi_quartic_coeff[n] * nsimplify(conjugate(tmp_i[i1-1])*tmp_j[j1-1]*conjugate(tmp_k[k1-1])*tmp_l[l1-1])\n",
    "                        elif [k1,l1,i1,j1] in phi_quartic_list:\n",
    "                            tmp_list1 = [k1,l1,i1,j1]\n",
    "                            index = phi_quartic_list.index(tmp_list1)\n",
    "                            Y[n,index] += phi_quartic_coeff[n] * nsimplify(conjugate(tmp_i[i1-1])*tmp_j[j1-1]*conjugate(tmp_k[k1-1])*tmp_l[l1-1])\n",
    "                        else:\n",
    "                            continue\n",
    "\n",
    "\n",
    "    equations = []\n",
    "\n",
    "    for n in range(136):\n",
    "        if not phi_quartic_list[n] in phi_quartic_list_old:\n",
    "            equations.append(sum(Y[:,n]))\n",
    "        else:\n",
    "            equations.append(sum(Y[:,n]) - phi_quartic_coeff[phi_quartic_list_old.index(phi_quartic_list[n])])\n",
    "\n",
    "    return solve(equations, rational=True)"
   ]
  },
  {
   "cell_type": "markdown",
   "metadata": {},
   "source": [
    "example: coefficient relation of matrix Result[2] is $r_{9} = r_{10} = 0$"
   ]
  },
  {
   "cell_type": "code",
   "execution_count": 37,
   "metadata": {},
   "outputs": [
    {
     "data": {
      "image/png": "[encoded data removed]",
      "text/latex": [
       "$\\displaystyle \\left( \\left[\\begin{matrix}- i & 0 & 0 & 0\\\\0 & 1 & 0 & 0\\\\0 & 0 & - i & 0\\\\0 & 0 & 0 & 1\\end{matrix}\\right], \\  \\left\\{ r_{10} : 0, \\  r_{9} : 0\\right\\}\\right)$"
      ],
      "text/plain": [
       "⎛⎡-ⅈ  0  0   0⎤                 ⎞\n",
       "⎜⎢            ⎥                 ⎟\n",
       "⎜⎢0   1  0   0⎥                 ⎟\n",
       "⎜⎢            ⎥, {r₁₀: 0, r₉: 0}⎟\n",
       "⎜⎢0   0  -ⅈ  0⎥                 ⎟\n",
       "⎜⎢            ⎥                 ⎟\n",
       "⎝⎣0   0  0   1⎦                 ⎠"
      ]
     },
     "execution_count": 37,
     "metadata": {},
     "output_type": "execute_result"
    }
   ],
   "source": [
    "Result[2], find_relation_among_coeff(Result[2])"
   ]
  }
 ],
 "metadata": {
  "kernelspec": {
   "display_name": "4HDM",
   "language": "python",
   "name": "4hdm"
  },
  "language_info": {
   "codemirror_mode": {
    "name": "ipython",
    "version": 3
   },
   "file_extension": ".py",
   "mimetype": "text/x-python",
   "name": "python",
   "nbconvert_exporter": "python",
   "pygments_lexer": "ipython3",
   "version": "3.12.8"
  }
 },
 "nbformat": 4,
 "nbformat_minor": 4
}
