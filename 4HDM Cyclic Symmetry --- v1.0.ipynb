{
 "cells": [
  {
   "cell_type": "markdown",
   "metadata": {},
   "source": [
    "# 4HDM Cyclic Symmetry --- v1.0"
   ]
  },
  {
   "cell_type": "markdown",
   "metadata": {},
   "source": [
    "When multi-Higgs doublet model contain more Higgs doublets, the richness of the symmetry pattern of the Higgs potential increases, and at some point, hopefully starting from 4-Higgs Doublet Model (4HDM), it is necessary to develop a computer code to handle the complexity if there are no genius mathematical insights into the model to corelate symmetry and potential without brutal-force work. "
   ]
  },
  {
   "cell_type": "markdown",
   "metadata": {},
   "source": [
    "This code is developed Precisely due to this concern. In fact, according to our observation during the process of derivation, we find out that the classification of symmetries of 4HDM is much more involved, therefore the code will be further updated to new versions if progresses are made. <p>\n",
    "\n",
    "The primary goals of this code v1.0 are: <p>\n",
    "* to find out generators of cyclic abelian symmetry group of given potential\n",
    "* for a given cyclic abelian generator, to find out the invariant potential\n",
    "* to study one particular class of abelian symmetry of 4HDM --- symmetres which are cyclic groups: $\\mathbf{Z}_8$, $\\mathbf{Z}_7$, $\\mathbf{Z}_6$, $\\mathbf{Z}_5$, $\\mathbf{Z}_4$, and classify generators and potentials up to permutation and rephasing of doublets."
   ]
  },
  {
   "cell_type": "markdown",
   "metadata": {},
   "source": [
    "## Packages required"
   ]
  },
  {
   "cell_type": "markdown",
   "metadata": {},
   "source": [
    "This code uses NumPy, sympy, copy, itertools, and smithnormalform packages. Run the follwoing cell to import. If un successful, you need to download the package via anaconda or other means."
   ]
  },
  {
   "cell_type": "markdown",
   "metadata": {},
   "source": [
    ">for the smithnormalform package, code web: https://github.com/corbinmcneill/SNF/tree/master/smithnormalform <p>\n",
    ">discription web: https://pypi.org/project/smithnormalform/ <p>\n",
    "remark: small package, far less formal compared with numpy and these things, but can return matrices making the original matrix normalized <p>\n",
    "'pip install smithnormalform' to install"
   ]
  },
  {
   "cell_type": "code",
   "execution_count": 1,
   "metadata": {},
   "outputs": [],
   "source": [
    "import itertools\n",
    "import copy\n",
    "import numpy as np\n",
    "from sympy import Matrix\n",
    "from sympy.matrices.normalforms import smith_normal_form\n",
    "from smithnormalform import matrix, snfproblem, z"
   ]
  },
  {
   "cell_type": "markdown",
   "metadata": {},
   "source": [
    "## How monomials in the potentials are represented in the code"
   ]
  },
  {
   "cell_type": "markdown",
   "metadata": {},
   "source": [
    "We use a list of 4 integers to represent a monomial in the Higgs potential. There are two ways to represent. One way is to store the indeces of the potential, for example: *(Remark: for quadratic terms, only the first two spots of the list are occupied)*"
   ]
  },
  {
   "cell_type": "markdown",
   "metadata": {},
   "source": [
    "* $[\\phi_i, \\phi_j, \\phi_k, \\phi_l]$ **usual representation:**  $\\quad(\\phi_1^\\dagger\\phi_3)\\mapsto [1,3,0,0]$ , $\\;(\\phi_1^\\dagger \\phi_2)(\\phi_3^\\dagger\\phi_4)\\mapsto [1,2,3,4]$ ,  $\\;(\\phi_3^\\dagger \\phi_2)(\\phi_3^\\dagger\\phi_4)\\mapsto [3,2,3,4]$"
   ]
  },
  {
   "cell_type": "markdown",
   "metadata": {},
   "source": [
    "But in the smith normal form technique, we use another way to represent, namely, we represent a monomial by the powers of each doublet, and denote the power as minus if the doublet is conjugated. For example:"
   ]
  },
  {
   "cell_type": "markdown",
   "metadata": {},
   "source": [
    "* $[c_{\\phi_1}, c_{\\phi_2}, c_{\\phi_3}, c_{\\phi_4}]$ **charge representation** : $\\quad(\\phi_1^\\dagger\\phi_3)\\mapsto [-1,0,1,0]$ $\\;(\\phi_1^\\dagger \\phi_2)(\\phi_3^\\dagger\\phi_4)\\mapsto [-1,1,-1,1]$ , $\\;(\\phi_3^\\dagger \\phi_2)(\\phi_3^\\dagger\\phi_4)\\mapsto [0,1,-2,1]$ "
   ]
  },
  {
   "cell_type": "markdown",
   "metadata": {},
   "source": [
    "It is more natural to write the usual representation. The following function quickly convert the usual representation into the charge representation:"
   ]
  },
  {
   "cell_type": "code",
   "execution_count": 2,
   "metadata": {},
   "outputs": [],
   "source": [
    "def convert(input_form):\n",
    "    c = [0, 0, 0, 0]\n",
    "    c[input_form[0]-1] -= 1\n",
    "    c[input_form[1]-1] += 1\n",
    "    c[input_form[2]-1] -= 1\n",
    "    c[input_form[3]-1] += 1\n",
    "    return c"
   ]
  },
  {
   "cell_type": "code",
   "execution_count": 3,
   "metadata": {
    "scrolled": true
   },
   "outputs": [
    {
     "data": {
      "text/plain": [
       "([-1, 0, 1, 0], [-1, 1, -1, 1], [0, 1, -2, 1])"
      ]
     },
     "execution_count": 3,
     "metadata": {},
     "output_type": "execute_result"
    }
   ],
   "source": [
    "# example:\n",
    "convert([1,3,0,0]), convert([1,2,3,4]), convert([3,2,3,4])"
   ]
  },
  {
   "cell_type": "markdown",
   "metadata": {},
   "source": [
    "## How the generators of abelian groups are represented in the code"
   ]
  },
  {
   "cell_type": "markdown",
   "metadata": {},
   "source": [
    "In 4HDM, generators of abelian group looks like a diagnal matrix, each element on the diagnal line is rephasing of certain doublet. We represent such generator by a list of 4 elements. Each element is the algebraic charge of the doublet."
   ]
  },
  {
   "cell_type": "markdown",
   "metadata": {},
   "source": [
    "For example: the genetator of $\\mathbb{Z}_4$ : $a = \\mbox{diag}(i, i, -1, 1)$ is represented by $[1,1,2,0]$ <p>\n",
    "the generator of $\\mathbb{Z}_4$ : $a^\\prime = \\sqrt{i}\\cdot\\mbox{diag}(i, -1, -i, 1)$ is represented by $0.5 + [1,2,3,0]$ <p> \n",
    "The overall phase factors can be ignored."
   ]
  },
  {
   "cell_type": "markdown",
   "metadata": {},
   "source": [
    "## Run the following cell"
   ]
  },
  {
   "cell_type": "markdown",
   "metadata": {},
   "source": [
    "All 27 4HDM monomials that transform nontrivially will be stored in the list: **fin_li**. You can change the N parameter to get NHDM monomials that transform nontrivially under rephasing."
   ]
  },
  {
   "cell_type": "code",
   "execution_count": 4,
   "metadata": {},
   "outputs": [],
   "source": [
    "N = 4 # means 4HDM. you can change it into any positive integers.\n",
    "\n",
    "def minus(list_):\n",
    "    return [-ele for ele in list_]\n",
    "\n",
    "def deleteDuplicatedElementFromList2(list):\n",
    "    resultList = []\n",
    "    for item in list:\n",
    "        if not item in resultList:\n",
    "            if not minus(item) in resultList:\n",
    "                resultList.append(item)\n",
    "    return resultList\n",
    "\n",
    "def deleteDuplicatedElementFromList1(list):\n",
    "    resultList = []\n",
    "    for item in list:\n",
    "        if not item in resultList:\n",
    "            resultList.append(item)\n",
    "    return resultList\n",
    "\n",
    "li_2 = [[i,j,0,0] for i in range(1,N+1) for j in range(1,N+1)]\n",
    "li_4 = [[i, j, k, l] for i in range(1,N+1) for j in range(1,N+1) for k in range(1,N+1) for l in range(1,N+1)]\n",
    "li = li_2 + li_4\n",
    "converted_li = []\n",
    "for ele in li:\n",
    "    converted_li.append(convert(ele))\n",
    "\n",
    "tmp_li = deleteDuplicatedElementFromList2(converted_li)\n",
    "fin_li = tmp_li[1:]"
   ]
  },
  {
   "cell_type": "code",
   "execution_count": 5,
   "metadata": {},
   "outputs": [
    {
     "name": "stdout",
     "output_type": "stream",
     "text": [
      "length of the list: 27 \n",
      " 4HDM monomials that transform nontrivially under phase rotation:\n"
     ]
    },
    {
     "data": {
      "text/plain": [
       "[[-1, 1, 0, 0],\n",
       " [-1, 0, 1, 0],\n",
       " [-1, 0, 0, 1],\n",
       " [0, -1, 1, 0],\n",
       " [0, -1, 0, 1],\n",
       " [0, 0, -1, 1],\n",
       " [-2, 2, 0, 0],\n",
       " [-2, 1, 1, 0],\n",
       " [-2, 1, 0, 1],\n",
       " [-1, 2, -1, 0],\n",
       " [-1, 1, -1, 1],\n",
       " [-1, 2, 0, -1],\n",
       " [-1, 1, 1, -1],\n",
       " [-2, 0, 2, 0],\n",
       " [-2, 0, 1, 1],\n",
       " [-1, -1, 2, 0],\n",
       " [-1, -1, 1, 1],\n",
       " [-1, 0, 2, -1],\n",
       " [-2, 0, 0, 2],\n",
       " [-1, -1, 0, 2],\n",
       " [-1, 0, -1, 2],\n",
       " [0, -2, 2, 0],\n",
       " [0, -2, 1, 1],\n",
       " [0, -1, 2, -1],\n",
       " [0, -2, 0, 2],\n",
       " [0, -1, -1, 2],\n",
       " [0, 0, -2, 2]]"
      ]
     },
     "execution_count": 5,
     "metadata": {},
     "output_type": "execute_result"
    }
   ],
   "source": [
    "print(\"length of the list:\", len(fin_li), \"\\n 4HDM monomials that transform nontrivially under phase rotation:\")\n",
    "fin_li"
   ]
  },
  {
   "cell_type": "markdown",
   "metadata": {},
   "source": [
    "## Code that gives the potential if inputed abelian generators"
   ]
  },
  {
   "cell_type": "markdown",
   "metadata": {},
   "source": [
    "For cyclic groups: change input in this cell:"
   ]
  },
  {
   "cell_type": "code",
   "execution_count": 6,
   "metadata": {},
   "outputs": [],
   "source": [
    "a = [1,2,4,0] # This is the generator represented by algebraic charge. You can change it according to your need\n",
    "sym = 6.      # This means Z6 group. You can change it according to your need"
   ]
  },
  {
   "cell_type": "markdown",
   "metadata": {},
   "source": [
    "Then run this cell, it will output the potential symmetric under the inputed generator"
   ]
  },
  {
   "cell_type": "code",
   "execution_count": 7,
   "metadata": {},
   "outputs": [
    {
     "data": {
      "text/plain": [
       "[[-2, 1, 0, 1], [-2, 0, 2, 0], [0, -2, 1, 1], [0, -1, 2, -1], [0, -1, -1, 2]]"
      ]
     },
     "execution_count": 7,
     "metadata": {},
     "output_type": "execute_result"
    }
   ],
   "source": [
    "potential_a = []\n",
    "\n",
    "sum_charge = 0\n",
    "for ele in fin_li:\n",
    "    sum_charge = 0\n",
    "    sum_charge = sum([ele[i]*a[i] for i in range(4)])\n",
    "    if sum_charge % sym == 0:\n",
    "        potential_a.append(ele)\n",
    "\n",
    "potential_a"
   ]
  },
  {
   "cell_type": "markdown",
   "metadata": {},
   "source": [
    "When we are dealing with abelian groups other that cyclic groups, there will be improved version of the code that take multiple generator of the abelian group and output the potential."
   ]
  },
  {
   "cell_type": "markdown",
   "metadata": {},
   "source": [
    "## Code that gives the generator of abelian symmetry if inputed the potential"
   ]
  },
  {
   "cell_type": "markdown",
   "metadata": {},
   "source": [
    "Select three monomials from the potential and input it in the following cell:"
   ]
  },
  {
   "cell_type": "code",
   "execution_count": 8,
   "metadata": {},
   "outputs": [],
   "source": [
    "m = Matrix([[2, -2, 0, 0], [-2, 0, 0, 2], [0, -1, 2, -1]]) # change the entry if you like"
   ]
  },
  {
   "cell_type": "markdown",
   "metadata": {},
   "source": [
    "Run the following cell, the output is the type of symmetry. For example, if the output is 4, then the symmetry is Z4"
   ]
  },
  {
   "cell_type": "code",
   "execution_count": 9,
   "metadata": {},
   "outputs": [
    {
     "data": {
      "text/latex": [
       "$\\displaystyle 4$"
      ],
      "text/plain": [
       "4"
      ]
     },
     "execution_count": 9,
     "metadata": {},
     "output_type": "execute_result"
    }
   ],
   "source": [
    "a = smith_normal_form(m)\n",
    "type_of_symmetry = a[2,2]\n",
    "type_of_symmetry"
   ]
  },
  {
   "cell_type": "markdown",
   "metadata": {},
   "source": [
    "Run the following code, the output is the generator represented as algebraic charge"
   ]
  },
  {
   "cell_type": "code",
   "execution_count": 10,
   "metadata": {
    "scrolled": true
   },
   "outputs": [
    {
     "data": {
      "text/plain": [
       "[0, 2, 3, 0]"
      ]
     },
     "execution_count": 10,
     "metadata": {},
     "output_type": "execute_result"
    }
   ],
   "source": [
    "tmp = [z.Z(int(m[i])) for i in range(12)]\n",
    "tmp_list = []\n",
    "original_matrix = matrix.Matrix(3, 4, tmp)\n",
    "prob = snfproblem.SNFProblem(original_matrix)\n",
    "prob.computeSNF()\n",
    "for j in range(4):\n",
    "    tmp_list.append(prob.T.get(j,2).a % type_of_symmetry) \n",
    "tmp_list"
   ]
  },
  {
   "cell_type": "markdown",
   "metadata": {},
   "source": [
    "**Based on the previous tools, we check all possible choices of $\\mathbb{Z}_8$, $\\mathbb{Z}_7$, $\\mathbb{Z}_6$, $\\mathbb{Z}_5$, $\\mathbb{Z}_4$ generators and its invariant potential up to permutation and rephasing of doublets. We studied all distinct cases in the paper.**"
   ]
  },
  {
   "cell_type": "markdown",
   "metadata": {},
   "source": [
    "## Obtaining all possible $\\mathbb{Z}_n$ Symmetry generators, for $n=8,7,6,5,4$"
   ]
  },
  {
   "cell_type": "markdown",
   "metadata": {},
   "source": [
    "This cell calculate all possible choices of $\\mathbb{Z}_n$ generators. Duplications concerning rephasing of doublets still exist, but duplications concerning permutation fo doublets are removed. All generators are stored in the list **fin_T**"
   ]
  },
  {
   "cell_type": "markdown",
   "metadata": {},
   "source": [
    "It may happen that there are many choices. In this case, one need to check whether any two are equivalent under rephasing of doublets. In later version of the code, there might be updates that help checking automatically."
   ]
  },
  {
   "cell_type": "markdown",
   "metadata": {},
   "source": [
    "Change the input in the immediate following cell, the number means $n$ in $\\mathbb{Z}_n$"
   ]
  },
  {
   "cell_type": "code",
   "execution_count": 11,
   "metadata": {},
   "outputs": [],
   "source": [
    "sym = 6 # means Z6. You can change it according to your need"
   ]
  },
  {
   "cell_type": "markdown",
   "metadata": {},
   "source": [
    "Then run this cell, the output is all possible $\\mathbb{Z}_n$ generators"
   ]
  },
  {
   "cell_type": "code",
   "execution_count": 12,
   "metadata": {
    "scrolled": false
   },
   "outputs": [
    {
     "data": {
      "text/plain": [
       "[[0, 1, 2, 5],\n",
       " [0, 2, 4, 5],\n",
       " [0, 1, 3, 5],\n",
       " [0, 3, 4, 5],\n",
       " [0, 1, 2, 3],\n",
       " [0, 1, 4, 5],\n",
       " [0, 1, 2, 4],\n",
       " [0, 2, 3, 4]]"
      ]
     },
     "execution_count": 12,
     "metadata": {},
     "output_type": "execute_result"
    }
   ],
   "source": [
    "def permutation(li):\n",
    "    tmp = list(itertools.permutations(li))\n",
    "    result = []\n",
    "    for ele in tmp:\n",
    "        result.append(list(ele))\n",
    "    result = deleteDuplicatedElementFromList1(result)\n",
    "    return result\n",
    "\n",
    "def perm_eq(li1, li2):\n",
    "    li1_perm = permutation(li1)\n",
    "    if li2 in li1_perm:\n",
    "        return True\n",
    "    else:\n",
    "        return False\n",
    "\n",
    "\n",
    "fin_m = []\n",
    "for i in range(len(fin_li)):\n",
    "    for j in range(i+1, len(fin_li)):\n",
    "        for k in range(j+1, len(fin_li)):\n",
    "            mat = Matrix([fin_li[i], fin_li[j], fin_li[k]])\n",
    "            a = smith_normal_form(mat)\n",
    "            if np.abs(np.max(a)) == sym:\n",
    "                fin_m.append(mat)\n",
    "                \n",
    "fin_T = []\n",
    "\n",
    "for k in range(len(fin_m)):\n",
    "    tmp = [z.Z(int(fin_m[k][i])) for i in range(12)]\n",
    "    tmp_list = []\n",
    "    original_matrix = matrix.Matrix(3, 4, tmp)\n",
    "    prob = snfproblem.SNFProblem(original_matrix)\n",
    "    prob.computeSNF()\n",
    "    for j in range(4):\n",
    "        tmp_list.append(prob.T.get(j,2).a) \n",
    "    fin_T.append(tmp_list)\n",
    "    \n",
    "    \n",
    "# remove completely duplicated elements\n",
    "for i in range(len(fin_T)):\n",
    "    for j in range(4):\n",
    "        fin_T[i][j] = fin_T[i][j] % sym\n",
    "fin_T = deleteDuplicatedElementFromList2(fin_T)\n",
    "\n",
    "\n",
    "# remove equivalent elements up to permutation of doublets\n",
    "tmp = copy.deepcopy(fin_T)\n",
    "list_without_perm = []\n",
    "\n",
    "for i in range(len(fin_T)):\n",
    "    for j in range(i+1, len(fin_T)):\n",
    "        if perm_eq(fin_T[i], fin_T[j]):\n",
    "            tmp[i] = 0\n",
    "            \n",
    "for ele in tmp:\n",
    "    if not ele==0:\n",
    "        list_without_perm.append(sorted(ele))\n",
    "            \n",
    "# update results\n",
    "fin_T = []\n",
    "fin_T = copy.deepcopy(list_without_perm)\n",
    "fin_T"
   ]
  },
  {
   "cell_type": "markdown",
   "metadata": {},
   "source": [
    "*Then, after removing equivalent generators up to rephasing, you can use previous code --- **Code that gives the potential if inputed abelian generators** to generate the invariant potential under these non-equvilant generators*"
   ]
  },
  {
   "cell_type": "code",
   "execution_count": null,
   "metadata": {},
   "outputs": [],
   "source": []
  }
 ],
 "metadata": {
  "kernelspec": {
   "display_name": "Python 3 (ipykernel)",
   "language": "python",
   "name": "python3"
  },
  "language_info": {
   "codemirror_mode": {
    "name": "ipython",
    "version": 3
   },
   "file_extension": ".py",
   "mimetype": "text/x-python",
   "name": "python",
   "nbconvert_exporter": "python",
   "pygments_lexer": "ipython3",
   "version": "3.9.13"
  }
 },
 "nbformat": 4,
 "nbformat_minor": 2
}
